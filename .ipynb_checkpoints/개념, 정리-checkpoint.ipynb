{
 "cells": [
  {
   "cell_type": "markdown",
   "id": "7225531d-0b6e-4352-92cb-07babcaa1c61",
   "metadata": {},
   "source": [
    "### `Scaler` : 0을 중심으로 하거나, 0-1사이의 숫자로 변환시켜 연산에 무리가 없게 하는 작업\n",
    "### `one-hot encoder` : 범주형 데이터를 숫자로 변환시켜주는 작업"
   ]
  },
  {
   "cell_type": "markdown",
   "id": "8d2c5fc2-81e1-42e1-924d-0ae9d2dabb53",
   "metadata": {},
   "source": [
    "##### cf) X는 대문자로 y는 소문자로 쓰는 이유 X는 피처(독립변수)를 나타내고 y는 레이블(종속변수)를 나타내는데, X는 여러개이고 y는 한개이기 때문이다."
   ]
  },
  {
   "cell_type": "markdown",
   "id": "1f493bba-05ff-43f5-b69d-7f3b12ea5b83",
   "metadata": {},
   "source": [
    "### `Dense`: 뺵뺵한 정도를 나타내는 Density를 뜻한다. 딥러닝에서 층을 나눌때 쓰며, 층은 입력층, 은닉층, 출력층으로 나뉜다. 은닉층의 갯수를 추가하여 accuracy를 조정할 수 있다"
   ]
  },
  {
   "cell_type": "code",
   "execution_count": 4,
   "id": "ba3e0c87-8ad8-47b0-8a29-b5b4829f4051",
   "metadata": {},
   "outputs": [],
   "source": [
    "###### Dense 사용 예시 \n",
    "# <!-- Sequential 모델을 생성합니다. Sequential 모델은 레이어를 순차적으로 쌓을 수 있는 모델입니다.\n",
    "# model = Sequential()\n",
    "\n",
    "# 입력층을 추가합니다. input_dim은 입력 특성의 개수를 나타냅니다 (4개의 특성).\n",
    "# 활성화 함수로 'relu'를 사용합니다.\n",
    "# model.add(Dense(10, input_dim=4, activation='relu'))    # 입력층\n",
    "\n",
    "# 은닉층을 추가합니다. 10개의 뉴런을 가진 은닉층을 만듭니다.\n",
    "# 활성화 함수로 'relu'를 사용합니다.\n",
    "# model.add(Dense(10, activation='relu'))                 # 은닉층  #전 층에서의 출력갯수가 input_dim이 되기때문에 input_dim을 따로 설정하진 않는다.\n",
    "\n",
    "# 출력층을 추가합니다. 출력층은 클래스의 개수와 같은 뉴런 수를 가지며,\n",
    "# 다중 클래스 분류 문제이므로 활성화 함수로 'softmax'를 사용합니다.\n",
    "# model.add(Dense(3, activation='softmax'))               \n",
    "# # 출력층  # 붓꽃의 종류가 3가지 이므로 출력개수 3개로 설정, `회귀가 아닌 분류에선 3이 아닌 1로, softmax가 아닌 sigmod로 사용`\n",
    "\n",
    "# 모델의 구조를 요약하여 출력합니다.\n",
    "# model.summary() -->"
   ]
  },
  {
   "cell_type": "markdown",
   "id": "6752dfcb-638f-491a-a229-f0b53fa45a6b",
   "metadata": {},
   "source": [
    "##### 보통 수가 많으면 relu 활성화 함수, 0아니면1인 경우 sigmoid 활성화 함수"
   ]
  },
  {
   "cell_type": "code",
   "execution_count": 1,
   "id": "dee6d3d3-2196-42ec-8cb4-fac4f32f11d9",
   "metadata": {},
   "outputs": [],
   "source": [
    "#### model.compile 함수에서 loss 매개변수를 지정하는 이유는 모델이 학습할 때 어떤 기준으로 가중치를 업데이트할지를 결정하기 위함입니다. Loss 함수는 모델의 출력과 실제 정답 사이의 차이를 측정하는 방법을 정의합니다.\n",
    "\n",
    "#### 여러 가지 문제에 대해 다양한 종류의 loss 함수가 존재하며, 사용자는 자신이 다루고 있는 문제에 가장 적합한 loss 함수를 선택합니다. 각 문제에 따라 적절한 loss 함수가 다르기 때문에 사용자가 명시적으로 지정해주어야 합니다.\n",
    "\n",
    "#### 예를 들어, 이진 분류 문제에서는 binary_crossentropy가 흔히 사용되고, 다중 클래스 분류 문제에서는 categorical_crossentropy 또는 sparse_categorical_crossentropy 등이 일반적입니다. 회귀 문제의 경우에는 평균 제곱 오차(mean_squared_error)가 자주 사용됩니다.\n",
    "\n",
    "#### optimizer 매개변수는 가중치 업데이트에 사용되는 최적화 알고리즘을 지정하며, metrics 매개변수는 학습과 평가 중에 모델을 평가하는 데 사용되는 지표를 지정합니다. 이러한 매개변수들을 설정하여 모델이 원하는 방향으로 학습되도록 조절할 수 있습니다."
   ]
  },
  {
   "cell_type": "code",
   "execution_count": null,
   "id": "bacf585d-2a3c-4a33-b027-a7becf1df69a",
   "metadata": {},
   "outputs": [],
   "source": []
  },
  {
   "cell_type": "code",
   "execution_count": null,
   "id": "d4df3449-a211-46dd-9c96-03c90227dba5",
   "metadata": {},
   "outputs": [],
   "source": []
  },
  {
   "cell_type": "code",
   "execution_count": null,
   "id": "3f4d9022-4f51-4445-9761-dc42e43370ad",
   "metadata": {},
   "outputs": [],
   "source": []
  },
  {
   "cell_type": "code",
   "execution_count": null,
   "id": "5f754195-eb79-4af7-89d7-36189ca9173a",
   "metadata": {},
   "outputs": [],
   "source": []
  },
  {
   "cell_type": "code",
   "execution_count": null,
   "id": "2b9110c2-0deb-4dbb-9ad9-c08f899dcb4c",
   "metadata": {},
   "outputs": [],
   "source": []
  },
  {
   "cell_type": "code",
   "execution_count": null,
   "id": "d7868349-17b5-423e-a2d7-1d66502cefd6",
   "metadata": {},
   "outputs": [],
   "source": []
  },
  {
   "cell_type": "code",
   "execution_count": null,
   "id": "beacaacc-cfc1-4c12-87ea-2c0f32b7819b",
   "metadata": {},
   "outputs": [],
   "source": []
  },
  {
   "cell_type": "code",
   "execution_count": null,
   "id": "ebbce8cf-bd38-4aa3-9624-3abce112777b",
   "metadata": {},
   "outputs": [],
   "source": []
  },
  {
   "cell_type": "code",
   "execution_count": null,
   "id": "3b122dfd-fa18-4c49-960d-a5b5753c705f",
   "metadata": {},
   "outputs": [],
   "source": []
  },
  {
   "cell_type": "code",
   "execution_count": null,
   "id": "f0751938-f3b9-4d99-b66e-a2fb3a13487f",
   "metadata": {},
   "outputs": [],
   "source": []
  },
  {
   "cell_type": "code",
   "execution_count": null,
   "id": "6f21a198-4ca6-4669-bd61-7901557f199f",
   "metadata": {},
   "outputs": [],
   "source": []
  },
  {
   "cell_type": "code",
   "execution_count": null,
   "id": "b7dd7e5d-932c-49cc-9e35-c732db092b88",
   "metadata": {},
   "outputs": [],
   "source": []
  },
  {
   "cell_type": "code",
   "execution_count": null,
   "id": "769ab41e-7c7b-431b-8ab9-3530c7016d0e",
   "metadata": {},
   "outputs": [],
   "source": []
  },
  {
   "cell_type": "code",
   "execution_count": null,
   "id": "04537e40-a1a9-4079-b652-c6d89470e445",
   "metadata": {},
   "outputs": [],
   "source": []
  },
  {
   "cell_type": "code",
   "execution_count": null,
   "id": "8aa12d79-f4b8-4efa-9b06-cf5439c87b49",
   "metadata": {},
   "outputs": [],
   "source": []
  },
  {
   "cell_type": "code",
   "execution_count": null,
   "id": "e6361411-8723-444a-b626-d60d5176cc9c",
   "metadata": {},
   "outputs": [],
   "source": []
  },
  {
   "cell_type": "code",
   "execution_count": null,
   "id": "71e0e098-a6a0-4ca3-80f6-e39c17168bc9",
   "metadata": {},
   "outputs": [],
   "source": []
  },
  {
   "cell_type": "code",
   "execution_count": null,
   "id": "a4f61761-3066-4fbc-8a67-bc6b839c3fda",
   "metadata": {},
   "outputs": [],
   "source": []
  },
  {
   "cell_type": "code",
   "execution_count": null,
   "id": "f0be76a0-1f0d-4426-aff6-982ab8f6e8f8",
   "metadata": {},
   "outputs": [],
   "source": []
  }
 ],
 "metadata": {
  "kernelspec": {
   "display_name": "Python 3 (ipykernel)",
   "language": "python",
   "name": "python3"
  },
  "language_info": {
   "codemirror_mode": {
    "name": "ipython",
    "version": 3
   },
   "file_extension": ".py",
   "mimetype": "text/x-python",
   "name": "python",
   "nbconvert_exporter": "python",
   "pygments_lexer": "ipython3",
   "version": "3.11.5"
  }
 },
 "nbformat": 4,
 "nbformat_minor": 5
}
